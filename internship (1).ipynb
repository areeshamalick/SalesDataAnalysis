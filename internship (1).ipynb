{
 "cells": [
  {
   "cell_type": "markdown",
   "id": "d0ae2109",
   "metadata": {
    "id": "7da3774d"
   },
   "source": [
    "### Task No: 01"
   ]
  },
  {
   "cell_type": "code",
   "execution_count": 1,
   "id": "35c8fd9c",
   "metadata": {
    "id": "35c8fd9c"
   },
   "outputs": [],
   "source": [
    "import pandas as pd\n",
    "import numpy as np\n",
    "import matplotlib.pyplot as plt\n",
    "import seaborn as sns"
   ]
  },
  {
   "cell_type": "code",
   "execution_count": 8,
   "id": "8bb3411e",
   "metadata": {
    "id": "8bb3411e"
   },
   "outputs": [],
   "source": [
    "file_path = 'sales_data.csv'\n",
    "sales_data = pd.read_csv(file_path)"
   ]
  },
  {
   "cell_type": "code",
   "execution_count": 9,
   "id": "9e212844",
   "metadata": {
    "colab": {
     "base_uri": "https://localhost:8080/"
    },
    "id": "9e212844",
    "outputId": "6a346f38-2bee-4635-b6f0-f5f597e75a71"
   },
   "outputs": [
    {
     "name": "stdout",
     "output_type": "stream",
     "text": [
      "Missing values per column:\n",
      " Customer ID     0\n",
      "Order ID        0\n",
      "Order Date      0\n",
      "Product ID      0\n",
      "Product Name    0\n",
      "Category        0\n",
      "Quantity        0\n",
      "Unit Price      0\n",
      "Region          0\n",
      "Total Amount    0\n",
      "dtype: int64\n"
     ]
    }
   ],
   "source": [
    "missing_values = sales_data.isnull().sum()\n",
    "print(\"Missing values per column:\\n\", missing_values)"
   ]
  },
  {
   "cell_type": "code",
   "execution_count": 10,
   "id": "11d8372c",
   "metadata": {
    "colab": {
     "base_uri": "https://localhost:8080/"
    },
    "id": "11d8372c",
    "outputId": "bd8add40-4240-4161-8354-9e79034ad574"
   },
   "outputs": [
    {
     "name": "stdout",
     "output_type": "stream",
     "text": [
      "Number of duplicate records: 0\n"
     ]
    }
   ],
   "source": [
    "duplicates = sales_data.duplicated().sum()\n",
    "print(f\"Number of duplicate records: {duplicates}\")"
   ]
  },
  {
   "cell_type": "markdown",
   "id": "f6e59fe2",
   "metadata": {},
   "source": [
    "### Task No: 02"
   ]
  },
  {
   "cell_type": "code",
   "execution_count": 11,
   "id": "0e41ca00",
   "metadata": {
    "id": "0e41ca00"
   },
   "outputs": [],
   "source": [
    "sales_data['Order Date'] = pd.to_datetime(sales_data['Order Date'], errors='coerce')"
   ]
  },
  {
   "cell_type": "code",
   "execution_count": 12,
   "id": "f523b80c",
   "metadata": {
    "colab": {
     "base_uri": "https://localhost:8080/",
     "height": 310
    },
    "id": "f523b80c",
    "outputId": "93cfb245-8bcb-41cd-8c46-805ccf9a8e1e"
   },
   "outputs": [
    {
     "data": {
      "application/vnd.google.colaboratory.intrinsic+json": {
       "summary": "{\n  \"name\": \"sales_data\",\n  \"rows\": 363,\n  \"fields\": [\n    {\n      \"column\": \"Customer ID\",\n      \"properties\": {\n        \"dtype\": \"string\",\n        \"num_unique_values\": 363,\n        \"samples\": [\n          \"a14f9a83-452e-43a3-b991-92a74f2370d9\",\n          \"95e2e4a5-d1b4-4aa0-a285-2f8619a2cb4c\",\n          \"b8a0e459-f916-4db1-af12-7b3f7825cb16\"\n        ],\n        \"semantic_type\": \"\",\n        \"description\": \"\"\n      }\n    },\n    {\n      \"column\": \"Order ID\",\n      \"properties\": {\n        \"dtype\": \"string\",\n        \"num_unique_values\": 363,\n        \"samples\": [\n          \"77900174-8b14-4233-a673-6483cd499371\",\n          \"155ecfac-a4ef-4f85-88c9-93074c3eefaa\",\n          \"852fbcfa-75b1-45a7-83aa-a6b96b962c47\"\n        ],\n        \"semantic_type\": \"\",\n        \"description\": \"\"\n      }\n    },\n    {\n      \"column\": \"Order Date\",\n      \"properties\": {\n        \"dtype\": \"date\",\n        \"min\": \"2021-08-20 00:00:00\",\n        \"max\": \"2023-08-19 00:00:00\",\n        \"num_unique_values\": 286,\n        \"samples\": [\n          \"2021-08-21 00:00:00\",\n          \"2023-01-27 00:00:00\",\n          \"2022-01-08 00:00:00\"\n        ],\n        \"semantic_type\": \"\",\n        \"description\": \"\"\n      }\n    },\n    {\n      \"column\": \"Product ID\",\n      \"properties\": {\n        \"dtype\": \"string\",\n        \"num_unique_values\": 363,\n        \"samples\": [\n          \"d9602208-b0a6-40ff-8561-cb3a7f315c39\",\n          \"19af4d1f-0c96-43ed-bebd-3c1e257b2b5f\",\n          \"ab1a809a-f20b-4207-8715-9b16e908652e\"\n        ],\n        \"semantic_type\": \"\",\n        \"description\": \"\"\n      }\n    },\n    {\n      \"column\": \"Product Name\",\n      \"properties\": {\n        \"dtype\": \"category\",\n        \"num_unique_values\": 10,\n        \"samples\": [\n          \"Microwave\",\n          \"Smartphone\",\n          \"Headphones\"\n        ],\n        \"semantic_type\": \"\",\n        \"description\": \"\"\n      }\n    },\n    {\n      \"column\": \"Category\",\n      \"properties\": {\n        \"dtype\": \"category\",\n        \"num_unique_values\": 5,\n        \"samples\": [\n          \"Clothing\",\n          \"Electronics\",\n          \"Books\"\n        ],\n        \"semantic_type\": \"\",\n        \"description\": \"\"\n      }\n    },\n    {\n      \"column\": \"Quantity\",\n      \"properties\": {\n        \"dtype\": \"number\",\n        \"std\": 2,\n        \"min\": 1,\n        \"max\": 10,\n        \"num_unique_values\": 10,\n        \"samples\": [\n          8,\n          1,\n          9\n        ],\n        \"semantic_type\": \"\",\n        \"description\": \"\"\n      }\n    },\n    {\n      \"column\": \"Unit Price\",\n      \"properties\": {\n        \"dtype\": \"number\",\n        \"std\": 139.9565108949563,\n        \"min\": 10.2,\n        \"max\": 499.95,\n        \"num_unique_values\": 361,\n        \"samples\": [\n          449.63,\n          433.66,\n          418.95\n        ],\n        \"semantic_type\": \"\",\n        \"description\": \"\"\n      }\n    },\n    {\n      \"column\": \"Region\",\n      \"properties\": {\n        \"dtype\": \"category\",\n        \"num_unique_values\": 4,\n        \"samples\": [\n          \"South\",\n          \"East\",\n          \"North\"\n        ],\n        \"semantic_type\": \"\",\n        \"description\": \"\"\n      }\n    },\n    {\n      \"column\": \"Total Amount\",\n      \"properties\": {\n        \"dtype\": \"number\",\n        \"std\": 1109.812582595085,\n        \"min\": 21.97,\n        \"max\": 4940.7,\n        \"num_unique_values\": 363,\n        \"samples\": [\n          1798.52,\n          1734.64,\n          1675.8\n        ],\n        \"semantic_type\": \"\",\n        \"description\": \"\"\n      }\n    }\n  ]\n}",
       "type": "dataframe",
       "variable_name": "sales_data"
      },
      "text/html": [
       "\n",
       "  <div id=\"df-b58c86c1-5624-4c2b-8c4a-22ceede4b4f9\" class=\"colab-df-container\">\n",
       "    <div>\n",
       "<style scoped>\n",
       "    .dataframe tbody tr th:only-of-type {\n",
       "        vertical-align: middle;\n",
       "    }\n",
       "\n",
       "    .dataframe tbody tr th {\n",
       "        vertical-align: top;\n",
       "    }\n",
       "\n",
       "    .dataframe thead th {\n",
       "        text-align: right;\n",
       "    }\n",
       "</style>\n",
       "<table border=\"1\" class=\"dataframe\">\n",
       "  <thead>\n",
       "    <tr style=\"text-align: right;\">\n",
       "      <th></th>\n",
       "      <th>Customer ID</th>\n",
       "      <th>Order ID</th>\n",
       "      <th>Order Date</th>\n",
       "      <th>Product ID</th>\n",
       "      <th>Product Name</th>\n",
       "      <th>Category</th>\n",
       "      <th>Quantity</th>\n",
       "      <th>Unit Price</th>\n",
       "      <th>Region</th>\n",
       "      <th>Total Amount</th>\n",
       "    </tr>\n",
       "  </thead>\n",
       "  <tbody>\n",
       "    <tr>\n",
       "      <th>0</th>\n",
       "      <td>8a80ddb1-8615-4452-adce-db56c9385365</td>\n",
       "      <td>d929f0c8-5600-456b-9360-ae114e339871</td>\n",
       "      <td>2021-12-25</td>\n",
       "      <td>9c485900-229d-4b96-ac99-374754d40e1c</td>\n",
       "      <td>T-shirt</td>\n",
       "      <td>Accessories</td>\n",
       "      <td>2</td>\n",
       "      <td>55.23</td>\n",
       "      <td>North</td>\n",
       "      <td>110.46</td>\n",
       "    </tr>\n",
       "    <tr>\n",
       "      <th>1</th>\n",
       "      <td>ac664d43-893a-47a1-bdd7-139f73a360a7</td>\n",
       "      <td>38d57142-b1f3-4b25-ae2e-e7404d2df736</td>\n",
       "      <td>2022-10-08</td>\n",
       "      <td>3ff68652-ba71-4610-9284-71f778fd2819</td>\n",
       "      <td>Smartphone</td>\n",
       "      <td>Clothing</td>\n",
       "      <td>1</td>\n",
       "      <td>217.55</td>\n",
       "      <td>South</td>\n",
       "      <td>217.55</td>\n",
       "    </tr>\n",
       "    <tr>\n",
       "      <th>2</th>\n",
       "      <td>ebbc4ba3-d24f-4e25-a585-15c8e6bacbd7</td>\n",
       "      <td>58a7f2a2-5682-4510-b94e-cb56d076880d</td>\n",
       "      <td>2022-11-30</td>\n",
       "      <td>99ad1f2f-fa2e-4b27-8952-7b23249eeebc</td>\n",
       "      <td>T-shirt</td>\n",
       "      <td>Books</td>\n",
       "      <td>5</td>\n",
       "      <td>145.57</td>\n",
       "      <td>West</td>\n",
       "      <td>727.85</td>\n",
       "    </tr>\n",
       "    <tr>\n",
       "      <th>3</th>\n",
       "      <td>5f3f88e8-b638-4cfd-9af8-e14b63d9082f</td>\n",
       "      <td>12af190c-f3a3-4209-b7a7-fa7a66337df8</td>\n",
       "      <td>2023-02-12</td>\n",
       "      <td>b767b606-a5c1-46fc-83fa-78de163b8fce</td>\n",
       "      <td>Watch</td>\n",
       "      <td>Clothing</td>\n",
       "      <td>4</td>\n",
       "      <td>11.74</td>\n",
       "      <td>North</td>\n",
       "      <td>46.96</td>\n",
       "    </tr>\n",
       "    <tr>\n",
       "      <th>4</th>\n",
       "      <td>2029cf6c-dd8e-430c-ae24-586d3a5f422a</td>\n",
       "      <td>d283a232-0b04-49e9-bad3-6dcfd115b421</td>\n",
       "      <td>2023-02-17</td>\n",
       "      <td>15baeab4-63b9-4b98-a52f-40697bcd0c0f</td>\n",
       "      <td>Watch</td>\n",
       "      <td>Accessories</td>\n",
       "      <td>4</td>\n",
       "      <td>387.85</td>\n",
       "      <td>East</td>\n",
       "      <td>1551.40</td>\n",
       "    </tr>\n",
       "  </tbody>\n",
       "</table>\n",
       "</div>\n",
       "    <div class=\"colab-df-buttons\">\n",
       "\n",
       "  <div class=\"colab-df-container\">\n",
       "    <button class=\"colab-df-convert\" onclick=\"convertToInteractive('df-b58c86c1-5624-4c2b-8c4a-22ceede4b4f9')\"\n",
       "            title=\"Convert this dataframe to an interactive table.\"\n",
       "            style=\"display:none;\">\n",
       "\n",
       "  <svg xmlns=\"http://www.w3.org/2000/svg\" height=\"24px\" viewBox=\"0 -960 960 960\">\n",
       "    <path d=\"M120-120v-720h720v720H120Zm60-500h600v-160H180v160Zm220 220h160v-160H400v160Zm0 220h160v-160H400v160ZM180-400h160v-160H180v160Zm440 0h160v-160H620v160ZM180-180h160v-160H180v160Zm440 0h160v-160H620v160Z\"/>\n",
       "  </svg>\n",
       "    </button>\n",
       "\n",
       "  <style>\n",
       "    .colab-df-container {\n",
       "      display:flex;\n",
       "      gap: 12px;\n",
       "    }\n",
       "\n",
       "    .colab-df-convert {\n",
       "      background-color: #E8F0FE;\n",
       "      border: none;\n",
       "      border-radius: 50%;\n",
       "      cursor: pointer;\n",
       "      display: none;\n",
       "      fill: #1967D2;\n",
       "      height: 32px;\n",
       "      padding: 0 0 0 0;\n",
       "      width: 32px;\n",
       "    }\n",
       "\n",
       "    .colab-df-convert:hover {\n",
       "      background-color: #E2EBFA;\n",
       "      box-shadow: 0px 1px 2px rgba(60, 64, 67, 0.3), 0px 1px 3px 1px rgba(60, 64, 67, 0.15);\n",
       "      fill: #174EA6;\n",
       "    }\n",
       "\n",
       "    .colab-df-buttons div {\n",
       "      margin-bottom: 4px;\n",
       "    }\n",
       "\n",
       "    [theme=dark] .colab-df-convert {\n",
       "      background-color: #3B4455;\n",
       "      fill: #D2E3FC;\n",
       "    }\n",
       "\n",
       "    [theme=dark] .colab-df-convert:hover {\n",
       "      background-color: #434B5C;\n",
       "      box-shadow: 0px 1px 3px 1px rgba(0, 0, 0, 0.15);\n",
       "      filter: drop-shadow(0px 1px 2px rgba(0, 0, 0, 0.3));\n",
       "      fill: #FFFFFF;\n",
       "    }\n",
       "  </style>\n",
       "\n",
       "    <script>\n",
       "      const buttonEl =\n",
       "        document.querySelector('#df-b58c86c1-5624-4c2b-8c4a-22ceede4b4f9 button.colab-df-convert');\n",
       "      buttonEl.style.display =\n",
       "        google.colab.kernel.accessAllowed ? 'block' : 'none';\n",
       "\n",
       "      async function convertToInteractive(key) {\n",
       "        const element = document.querySelector('#df-b58c86c1-5624-4c2b-8c4a-22ceede4b4f9');\n",
       "        const dataTable =\n",
       "          await google.colab.kernel.invokeFunction('convertToInteractive',\n",
       "                                                    [key], {});\n",
       "        if (!dataTable) return;\n",
       "\n",
       "        const docLinkHtml = 'Like what you see? Visit the ' +\n",
       "          '<a target=\"_blank\" href=https://colab.research.google.com/notebooks/data_table.ipynb>data table notebook</a>'\n",
       "          + ' to learn more about interactive tables.';\n",
       "        element.innerHTML = '';\n",
       "        dataTable['output_type'] = 'display_data';\n",
       "        await google.colab.output.renderOutput(dataTable, element);\n",
       "        const docLink = document.createElement('div');\n",
       "        docLink.innerHTML = docLinkHtml;\n",
       "        element.appendChild(docLink);\n",
       "      }\n",
       "    </script>\n",
       "  </div>\n",
       "\n",
       "\n",
       "<div id=\"df-8e6cd5c1-9fb9-4aad-b93b-c06326219dc5\">\n",
       "  <button class=\"colab-df-quickchart\" onclick=\"quickchart('df-8e6cd5c1-9fb9-4aad-b93b-c06326219dc5')\"\n",
       "            title=\"Suggest charts\"\n",
       "            style=\"display:none;\">\n",
       "\n",
       "<svg xmlns=\"http://www.w3.org/2000/svg\" height=\"24px\"viewBox=\"0 0 24 24\"\n",
       "     width=\"24px\">\n",
       "    <g>\n",
       "        <path d=\"M19 3H5c-1.1 0-2 .9-2 2v14c0 1.1.9 2 2 2h14c1.1 0 2-.9 2-2V5c0-1.1-.9-2-2-2zM9 17H7v-7h2v7zm4 0h-2V7h2v10zm4 0h-2v-4h2v4z\"/>\n",
       "    </g>\n",
       "</svg>\n",
       "  </button>\n",
       "\n",
       "<style>\n",
       "  .colab-df-quickchart {\n",
       "      --bg-color: #E8F0FE;\n",
       "      --fill-color: #1967D2;\n",
       "      --hover-bg-color: #E2EBFA;\n",
       "      --hover-fill-color: #174EA6;\n",
       "      --disabled-fill-color: #AAA;\n",
       "      --disabled-bg-color: #DDD;\n",
       "  }\n",
       "\n",
       "  [theme=dark] .colab-df-quickchart {\n",
       "      --bg-color: #3B4455;\n",
       "      --fill-color: #D2E3FC;\n",
       "      --hover-bg-color: #434B5C;\n",
       "      --hover-fill-color: #FFFFFF;\n",
       "      --disabled-bg-color: #3B4455;\n",
       "      --disabled-fill-color: #666;\n",
       "  }\n",
       "\n",
       "  .colab-df-quickchart {\n",
       "    background-color: var(--bg-color);\n",
       "    border: none;\n",
       "    border-radius: 50%;\n",
       "    cursor: pointer;\n",
       "    display: none;\n",
       "    fill: var(--fill-color);\n",
       "    height: 32px;\n",
       "    padding: 0;\n",
       "    width: 32px;\n",
       "  }\n",
       "\n",
       "  .colab-df-quickchart:hover {\n",
       "    background-color: var(--hover-bg-color);\n",
       "    box-shadow: 0 1px 2px rgba(60, 64, 67, 0.3), 0 1px 3px 1px rgba(60, 64, 67, 0.15);\n",
       "    fill: var(--button-hover-fill-color);\n",
       "  }\n",
       "\n",
       "  .colab-df-quickchart-complete:disabled,\n",
       "  .colab-df-quickchart-complete:disabled:hover {\n",
       "    background-color: var(--disabled-bg-color);\n",
       "    fill: var(--disabled-fill-color);\n",
       "    box-shadow: none;\n",
       "  }\n",
       "\n",
       "  .colab-df-spinner {\n",
       "    border: 2px solid var(--fill-color);\n",
       "    border-color: transparent;\n",
       "    border-bottom-color: var(--fill-color);\n",
       "    animation:\n",
       "      spin 1s steps(1) infinite;\n",
       "  }\n",
       "\n",
       "  @keyframes spin {\n",
       "    0% {\n",
       "      border-color: transparent;\n",
       "      border-bottom-color: var(--fill-color);\n",
       "      border-left-color: var(--fill-color);\n",
       "    }\n",
       "    20% {\n",
       "      border-color: transparent;\n",
       "      border-left-color: var(--fill-color);\n",
       "      border-top-color: var(--fill-color);\n",
       "    }\n",
       "    30% {\n",
       "      border-color: transparent;\n",
       "      border-left-color: var(--fill-color);\n",
       "      border-top-color: var(--fill-color);\n",
       "      border-right-color: var(--fill-color);\n",
       "    }\n",
       "    40% {\n",
       "      border-color: transparent;\n",
       "      border-right-color: var(--fill-color);\n",
       "      border-top-color: var(--fill-color);\n",
       "    }\n",
       "    60% {\n",
       "      border-color: transparent;\n",
       "      border-right-color: var(--fill-color);\n",
       "    }\n",
       "    80% {\n",
       "      border-color: transparent;\n",
       "      border-right-color: var(--fill-color);\n",
       "      border-bottom-color: var(--fill-color);\n",
       "    }\n",
       "    90% {\n",
       "      border-color: transparent;\n",
       "      border-bottom-color: var(--fill-color);\n",
       "    }\n",
       "  }\n",
       "</style>\n",
       "\n",
       "  <script>\n",
       "    async function quickchart(key) {\n",
       "      const quickchartButtonEl =\n",
       "        document.querySelector('#' + key + ' button');\n",
       "      quickchartButtonEl.disabled = true;  // To prevent multiple clicks.\n",
       "      quickchartButtonEl.classList.add('colab-df-spinner');\n",
       "      try {\n",
       "        const charts = await google.colab.kernel.invokeFunction(\n",
       "            'suggestCharts', [key], {});\n",
       "      } catch (error) {\n",
       "        console.error('Error during call to suggestCharts:', error);\n",
       "      }\n",
       "      quickchartButtonEl.classList.remove('colab-df-spinner');\n",
       "      quickchartButtonEl.classList.add('colab-df-quickchart-complete');\n",
       "    }\n",
       "    (() => {\n",
       "      let quickchartButtonEl =\n",
       "        document.querySelector('#df-8e6cd5c1-9fb9-4aad-b93b-c06326219dc5 button');\n",
       "      quickchartButtonEl.style.display =\n",
       "        google.colab.kernel.accessAllowed ? 'block' : 'none';\n",
       "    })();\n",
       "  </script>\n",
       "</div>\n",
       "\n",
       "    </div>\n",
       "  </div>\n"
      ],
      "text/plain": [
       "                            Customer ID                              Order ID  \\\n",
       "0  8a80ddb1-8615-4452-adce-db56c9385365  d929f0c8-5600-456b-9360-ae114e339871   \n",
       "1  ac664d43-893a-47a1-bdd7-139f73a360a7  38d57142-b1f3-4b25-ae2e-e7404d2df736   \n",
       "2  ebbc4ba3-d24f-4e25-a585-15c8e6bacbd7  58a7f2a2-5682-4510-b94e-cb56d076880d   \n",
       "3  5f3f88e8-b638-4cfd-9af8-e14b63d9082f  12af190c-f3a3-4209-b7a7-fa7a66337df8   \n",
       "4  2029cf6c-dd8e-430c-ae24-586d3a5f422a  d283a232-0b04-49e9-bad3-6dcfd115b421   \n",
       "\n",
       "  Order Date                            Product ID Product Name     Category  \\\n",
       "0 2021-12-25  9c485900-229d-4b96-ac99-374754d40e1c      T-shirt  Accessories   \n",
       "1 2022-10-08  3ff68652-ba71-4610-9284-71f778fd2819   Smartphone     Clothing   \n",
       "2 2022-11-30  99ad1f2f-fa2e-4b27-8952-7b23249eeebc      T-shirt        Books   \n",
       "3 2023-02-12  b767b606-a5c1-46fc-83fa-78de163b8fce        Watch     Clothing   \n",
       "4 2023-02-17  15baeab4-63b9-4b98-a52f-40697bcd0c0f        Watch  Accessories   \n",
       "\n",
       "   Quantity  Unit Price Region  Total Amount  \n",
       "0         2       55.23  North        110.46  \n",
       "1         1      217.55  South        217.55  \n",
       "2         5      145.57   West        727.85  \n",
       "3         4       11.74  North         46.96  \n",
       "4         4      387.85   East       1551.40  "
      ]
     },
     "execution_count": 12,
     "metadata": {},
     "output_type": "execute_result"
    }
   ],
   "source": [
    "sales_data.head()"
   ]
  },
  {
   "cell_type": "code",
   "execution_count": 13,
   "id": "c601d1c3",
   "metadata": {
    "id": "c601d1c3"
   },
   "outputs": [],
   "source": [
    "# Step 1: Calculate RFM metrics\n",
    "# Set reference date (e.g., the last day in the dataset)\n",
    "reference_date = sales_data['Order Date'].max() + pd.DateOffset(1)"
   ]
  },
  {
   "cell_type": "code",
   "execution_count": 14,
   "id": "bbc4b755",
   "metadata": {
    "id": "bbc4b755"
   },
   "outputs": [],
   "source": [
    "\n",
    "# Recency: Days since the last purchase\n",
    "rfm_recency = sales_data.groupby('Customer ID')['Order Date'].max().reset_index()\n",
    "rfm_recency['Recency'] = (reference_date - rfm_recency['Order Date']).dt.days"
   ]
  },
  {
   "cell_type": "code",
   "execution_count": 15,
   "id": "6e1575e9",
   "metadata": {
    "id": "6e1575e9"
   },
   "outputs": [],
   "source": [
    "# Frequency: Number of purchases\n",
    "rfm_frequency = sales_data.groupby('Customer ID')['Order ID'].count().reset_index()\n",
    "rfm_frequency.columns = ['Customer ID', 'Frequency']"
   ]
  },
  {
   "cell_type": "code",
   "execution_count": 16,
   "id": "2a5563de",
   "metadata": {
    "id": "2a5563de"
   },
   "outputs": [],
   "source": [
    "# Monetary: Total amount spent by each customer\n",
    "rfm_monetary = sales_data.groupby('Customer ID')['Total Amount'].sum().reset_index()\n",
    "rfm_monetary.columns = ['Customer ID', 'Monetary']"
   ]
  },
  {
   "cell_type": "code",
   "execution_count": 17,
   "id": "9924e025",
   "metadata": {
    "id": "9924e025"
   },
   "outputs": [],
   "source": [
    "# Step 2: Merge the RFM metrics\n",
    "rfm = rfm_recency.merge(rfm_frequency, on='Customer ID').merge(rfm_monetary, on='Customer ID')"
   ]
  },
  {
   "cell_type": "code",
   "execution_count": 18,
   "id": "2ff89438",
   "metadata": {
    "id": "2ff89438"
   },
   "outputs": [],
   "source": [
    "# Step 3: Create RFM segments\n",
    "# Divide Recency, Frequency, and Monetary into quartiles\n",
    "rfm['R_Score'] = pd.qcut(rfm['Recency'], 4, labels=[4, 3, 2, 1])\n",
    "rfm['F_Score'] = pd.qcut(rfm['Frequency'].rank(method=\"first\"), 4, labels=[1, 2, 3, 4])\n",
    "rfm['M_Score'] = pd.qcut(rfm['Monetary'], 4, labels=[1, 2, 3, 4])"
   ]
  },
  {
   "cell_type": "code",
   "execution_count": 19,
   "id": "9562252d",
   "metadata": {
    "id": "9562252d"
   },
   "outputs": [],
   "source": [
    "# Combine the RFM scores\n",
    "rfm['RFM_Score'] = rfm['R_Score'].astype(str) + rfm['F_Score'].astype(str) + rfm['M_Score'].astype(str)"
   ]
  },
  {
   "cell_type": "code",
   "execution_count": 20,
   "id": "d3a53fc1",
   "metadata": {
    "id": "d3a53fc1"
   },
   "outputs": [],
   "source": [
    "# Step 4: Segment customers based on RFM score\n",
    "def rfm_segment(row):\n",
    "    if row['RFM_Score'] == '444':\n",
    "        return 'High-Value Customer'\n",
    "    elif row['RFM_Score'][0] == '4':\n",
    "        return 'Loyal Customer'\n",
    "    elif row['RFM_Score'][1] == '1':\n",
    "        return 'At-Risk Customer'\n",
    "    elif row['RFM_Score'][2] == '1':\n",
    "        return 'Low-Spending Customer'\n",
    "    else:\n",
    "        return 'New Customer'\n",
    "\n",
    "rfm['Customer Segment'] = rfm.apply(rfm_segment, axis=1)"
   ]
  },
  {
   "cell_type": "code",
   "execution_count": 54,
   "id": "hNKqPdF-f6lt",
   "metadata": {
    "colab": {
     "base_uri": "https://localhost:8080/",
     "height": 556
    },
    "id": "hNKqPdF-f6lt",
    "outputId": "dd4074c8-a900-4ca4-b67d-9848eaa07bcd"
   },
   "outputs": [
    {
     "name": "stderr",
     "output_type": "stream",
     "text": [
      "<ipython-input-54-6f372645206c>:3: FutureWarning: \n",
      "\n",
      "Passing `palette` without assigning `hue` is deprecated and will be removed in v0.14.0. Assign the `x` variable to `hue` and set `legend=False` for the same effect.\n",
      "\n",
      "  sns.countplot(data=rfm, x='Customer Segment', order=rfm['Customer Segment'].value_counts().index, palette='viridis')\n"
     ]
    },
    {
     "data": {
      "image/png": "[encoded data removed]",
      "text/plain": [
       "<Figure size 800x300 with 1 Axes>"
      ]
     },
     "metadata": {},
     "output_type": "display_data"
    }
   ],
   "source": [
    "# Countplot for 'Customer Segment'\n",
    "plt.figure(figsize=(8, 3))\n",
    "sns.countplot(data=rfm, x='Customer Segment', order=rfm['Customer Segment'].value_counts().index, palette='viridis')\n",
    "plt.title('Distribution of Customer Segments')\n",
    "plt.xlabel('Customer Segment')\n",
    "plt.ylabel('Count')\n",
    "plt.xticks(rotation=45)\n",
    "plt.grid(True)\n",
    "plt.show()\n"
   ]
  },
  {
   "cell_type": "markdown",
   "id": "zm0aolt6ewym",
   "metadata": {
    "id": "zm0aolt6ewym"
   },
   "source": [
    "**SALES DATA ANALYSIS**"
   ]
  },
  {
   "cell_type": "code",
   "execution_count": 55,
   "id": "5ce53b5b",
   "metadata": {
    "colab": {
     "base_uri": "https://localhost:8080/",
     "height": 397
    },
    "id": "5ce53b5b",
    "outputId": "9f097573-9b6b-4109-f1ad-bcd364cf7858"
   },
   "outputs": [
    {
     "data": {
      "application/vnd.google.colaboratory.intrinsic+json": {
       "summary": "{\n  \"name\": \"sales_data\",\n  \"rows\": 363,\n  \"fields\": [\n    {\n      \"column\": \"Customer ID\",\n      \"properties\": {\n        \"dtype\": \"string\",\n        \"num_unique_values\": 363,\n        \"samples\": [\n          \"a14f9a83-452e-43a3-b991-92a74f2370d9\",\n          \"95e2e4a5-d1b4-4aa0-a285-2f8619a2cb4c\",\n          \"b8a0e459-f916-4db1-af12-7b3f7825cb16\"\n        ],\n        \"semantic_type\": \"\",\n        \"description\": \"\"\n      }\n    },\n    {\n      \"column\": \"Order ID\",\n      \"properties\": {\n        \"dtype\": \"string\",\n        \"num_unique_values\": 363,\n        \"samples\": [\n          \"77900174-8b14-4233-a673-6483cd499371\",\n          \"155ecfac-a4ef-4f85-88c9-93074c3eefaa\",\n          \"852fbcfa-75b1-45a7-83aa-a6b96b962c47\"\n        ],\n        \"semantic_type\": \"\",\n        \"description\": \"\"\n      }\n    },\n    {\n      \"column\": \"Order Date\",\n      \"properties\": {\n        \"dtype\": \"date\",\n        \"min\": \"2021-08-20 00:00:00\",\n        \"max\": \"2023-08-19 00:00:00\",\n        \"num_unique_values\": 286,\n        \"samples\": [\n          \"2021-08-21 00:00:00\",\n          \"2023-01-27 00:00:00\",\n          \"2022-01-08 00:00:00\"\n        ],\n        \"semantic_type\": \"\",\n        \"description\": \"\"\n      }\n    },\n    {\n      \"column\": \"Product ID\",\n      \"properties\": {\n        \"dtype\": \"string\",\n        \"num_unique_values\": 363,\n        \"samples\": [\n          \"d9602208-b0a6-40ff-8561-cb3a7f315c39\",\n          \"19af4d1f-0c96-43ed-bebd-3c1e257b2b5f\",\n          \"ab1a809a-f20b-4207-8715-9b16e908652e\"\n        ],\n        \"semantic_type\": \"\",\n        \"description\": \"\"\n      }\n    },\n    {\n      \"column\": \"Product Name\",\n      \"properties\": {\n        \"dtype\": \"category\",\n        \"num_unique_values\": 10,\n        \"samples\": [\n          \"Microwave\",\n          \"Smartphone\",\n          \"Headphones\"\n        ],\n        \"semantic_type\": \"\",\n        \"description\": \"\"\n      }\n    },\n    {\n      \"column\": \"Category\",\n      \"properties\": {\n        \"dtype\": \"category\",\n        \"num_unique_values\": 5,\n        \"samples\": [\n          \"Clothing\",\n          \"Electronics\",\n          \"Books\"\n        ],\n        \"semantic_type\": \"\",\n        \"description\": \"\"\n      }\n    },\n    {\n      \"column\": \"Quantity\",\n      \"properties\": {\n        \"dtype\": \"number\",\n        \"std\": 2,\n        \"min\": 1,\n        \"max\": 10,\n        \"num_unique_values\": 10,\n        \"samples\": [\n          8,\n          1,\n          9\n        ],\n        \"semantic_type\": \"\",\n        \"description\": \"\"\n      }\n    },\n    {\n      \"column\": \"Unit Price\",\n      \"properties\": {\n        \"dtype\": \"number\",\n        \"std\": 139.9565108949563,\n        \"min\": 10.2,\n        \"max\": 499.95,\n        \"num_unique_values\": 361,\n        \"samples\": [\n          449.63,\n          433.66,\n          418.95\n        ],\n        \"semantic_type\": \"\",\n        \"description\": \"\"\n      }\n    },\n    {\n      \"column\": \"Region\",\n      \"properties\": {\n        \"dtype\": \"category\",\n        \"num_unique_values\": 4,\n        \"samples\": [\n          \"South\",\n          \"East\",\n          \"North\"\n        ],\n        \"semantic_type\": \"\",\n        \"description\": \"\"\n      }\n    },\n    {\n      \"column\": \"Total Amount\",\n      \"properties\": {\n        \"dtype\": \"number\",\n        \"std\": 1109.812582595085,\n        \"min\": 21.97,\n        \"max\": 4940.7,\n        \"num_unique_values\": 363,\n        \"samples\": [\n          1798.52,\n          1734.64,\n          1675.8\n        ],\n        \"semantic_type\": \"\",\n        \"description\": \"\"\n      }\n    },\n    {\n      \"column\": \"Year\",\n      \"properties\": {\n        \"dtype\": \"int32\",\n        \"num_unique_values\": 3,\n        \"samples\": [\n          2021,\n          2022,\n          2023\n        ],\n        \"semantic_type\": \"\",\n        \"description\": \"\"\n      }\n    },\n    {\n      \"column\": \"Month\",\n      \"properties\": {\n        \"dtype\": \"period[M]\",\n        \"num_unique_values\": 25,\n        \"samples\": [\n          \"2023-05\",\n          \"2023-04\",\n          \"2021-12\"\n        ],\n        \"semantic_type\": \"\",\n        \"description\": \"\"\n      }\n    }\n  ]\n}",
       "type": "dataframe",
       "variable_name": "sales_data"
      },
      "text/html": [
       "\n",
       "  <div id=\"df-73d7b054-b2dc-4afe-a363-dc8fffeef074\" class=\"colab-df-container\">\n",
       "    <div>\n",
       "<style scoped>\n",
       "    .dataframe tbody tr th:only-of-type {\n",
       "        vertical-align: middle;\n",
       "    }\n",
       "\n",
       "    .dataframe tbody tr th {\n",
       "        vertical-align: top;\n",
       "    }\n",
       "\n",
       "    .dataframe thead th {\n",
       "        text-align: right;\n",
       "    }\n",
       "</style>\n",
       "<table border=\"1\" class=\"dataframe\">\n",
       "  <thead>\n",
       "    <tr style=\"text-align: right;\">\n",
       "      <th></th>\n",
       "      <th>Customer ID</th>\n",
       "      <th>Order ID</th>\n",
       "      <th>Order Date</th>\n",
       "      <th>Product ID</th>\n",
       "      <th>Product Name</th>\n",
       "      <th>Category</th>\n",
       "      <th>Quantity</th>\n",
       "      <th>Unit Price</th>\n",
       "      <th>Region</th>\n",
       "      <th>Total Amount</th>\n",
       "      <th>Year</th>\n",
       "      <th>Month</th>\n",
       "    </tr>\n",
       "  </thead>\n",
       "  <tbody>\n",
       "    <tr>\n",
       "      <th>0</th>\n",
       "      <td>8a80ddb1-8615-4452-adce-db56c9385365</td>\n",
       "      <td>d929f0c8-5600-456b-9360-ae114e339871</td>\n",
       "      <td>2021-12-25</td>\n",
       "      <td>9c485900-229d-4b96-ac99-374754d40e1c</td>\n",
       "      <td>T-shirt</td>\n",
       "      <td>Accessories</td>\n",
       "      <td>2</td>\n",
       "      <td>55.23</td>\n",
       "      <td>North</td>\n",
       "      <td>110.46</td>\n",
       "      <td>2021</td>\n",
       "      <td>2021-12</td>\n",
       "    </tr>\n",
       "    <tr>\n",
       "      <th>1</th>\n",
       "      <td>ac664d43-893a-47a1-bdd7-139f73a360a7</td>\n",
       "      <td>38d57142-b1f3-4b25-ae2e-e7404d2df736</td>\n",
       "      <td>2022-10-08</td>\n",
       "      <td>3ff68652-ba71-4610-9284-71f778fd2819</td>\n",
       "      <td>Smartphone</td>\n",
       "      <td>Clothing</td>\n",
       "      <td>1</td>\n",
       "      <td>217.55</td>\n",
       "      <td>South</td>\n",
       "      <td>217.55</td>\n",
       "      <td>2022</td>\n",
       "      <td>2022-10</td>\n",
       "    </tr>\n",
       "    <tr>\n",
       "      <th>2</th>\n",
       "      <td>ebbc4ba3-d24f-4e25-a585-15c8e6bacbd7</td>\n",
       "      <td>58a7f2a2-5682-4510-b94e-cb56d076880d</td>\n",
       "      <td>2022-11-30</td>\n",
       "      <td>99ad1f2f-fa2e-4b27-8952-7b23249eeebc</td>\n",
       "      <td>T-shirt</td>\n",
       "      <td>Books</td>\n",
       "      <td>5</td>\n",
       "      <td>145.57</td>\n",
       "      <td>West</td>\n",
       "      <td>727.85</td>\n",
       "      <td>2022</td>\n",
       "      <td>2022-11</td>\n",
       "    </tr>\n",
       "    <tr>\n",
       "      <th>3</th>\n",
       "      <td>5f3f88e8-b638-4cfd-9af8-e14b63d9082f</td>\n",
       "      <td>12af190c-f3a3-4209-b7a7-fa7a66337df8</td>\n",
       "      <td>2023-02-12</td>\n",
       "      <td>b767b606-a5c1-46fc-83fa-78de163b8fce</td>\n",
       "      <td>Watch</td>\n",
       "      <td>Clothing</td>\n",
       "      <td>4</td>\n",
       "      <td>11.74</td>\n",
       "      <td>North</td>\n",
       "      <td>46.96</td>\n",
       "      <td>2023</td>\n",
       "      <td>2023-02</td>\n",
       "    </tr>\n",
       "    <tr>\n",
       "      <th>4</th>\n",
       "      <td>2029cf6c-dd8e-430c-ae24-586d3a5f422a</td>\n",
       "      <td>d283a232-0b04-49e9-bad3-6dcfd115b421</td>\n",
       "      <td>2023-02-17</td>\n",
       "      <td>15baeab4-63b9-4b98-a52f-40697bcd0c0f</td>\n",
       "      <td>Watch</td>\n",
       "      <td>Accessories</td>\n",
       "      <td>4</td>\n",
       "      <td>387.85</td>\n",
       "      <td>East</td>\n",
       "      <td>1551.40</td>\n",
       "      <td>2023</td>\n",
       "      <td>2023-02</td>\n",
       "    </tr>\n",
       "  </tbody>\n",
       "</table>\n",
       "</div>\n",
       "    <div class=\"colab-df-buttons\">\n",
       "\n",
       "  <div class=\"colab-df-container\">\n",
       "    <button class=\"colab-df-convert\" onclick=\"convertToInteractive('df-73d7b054-b2dc-4afe-a363-dc8fffeef074')\"\n",
       "            title=\"Convert this dataframe to an interactive table.\"\n",
       "            style=\"display:none;\">\n",
       "\n",
       "  <svg xmlns=\"http://www.w3.org/2000/svg\" height=\"24px\" viewBox=\"0 -960 960 960\">\n",
       "    <path d=\"M120-120v-720h720v720H120Zm60-500h600v-160H180v160Zm220 220h160v-160H400v160Zm0 220h160v-160H400v160ZM180-400h160v-160H180v160Zm440 0h160v-160H620v160ZM180-180h160v-160H180v160Zm440 0h160v-160H620v160Z\"/>\n",
       "  </svg>\n",
       "    </button>\n",
       "\n",
       "  <style>\n",
       "    .colab-df-container {\n",
       "      display:flex;\n",
       "      gap: 12px;\n",
       "    }\n",
       "\n",
       "    .colab-df-convert {\n",
       "      background-color: #E8F0FE;\n",
       "      border: none;\n",
       "      border-radius: 50%;\n",
       "      cursor: pointer;\n",
       "      display: none;\n",
       "      fill: #1967D2;\n",
       "      height: 32px;\n",
       "      padding: 0 0 0 0;\n",
       "      width: 32px;\n",
       "    }\n",
       "\n",
       "    .colab-df-convert:hover {\n",
       "      background-color: #E2EBFA;\n",
       "      box-shadow: 0px 1px 2px rgba(60, 64, 67, 0.3), 0px 1px 3px 1px rgba(60, 64, 67, 0.15);\n",
       "      fill: #174EA6;\n",
       "    }\n",
       "\n",
       "    .colab-df-buttons div {\n",
       "      margin-bottom: 4px;\n",
       "    }\n",
       "\n",
       "    [theme=dark] .colab-df-convert {\n",
       "      background-color: #3B4455;\n",
       "      fill: #D2E3FC;\n",
       "    }\n",
       "\n",
       "    [theme=dark] .colab-df-convert:hover {\n",
       "      background-color: #434B5C;\n",
       "      box-shadow: 0px 1px 3px 1px rgba(0, 0, 0, 0.15);\n",
       "      filter: drop-shadow(0px 1px 2px rgba(0, 0, 0, 0.3));\n",
       "      fill: #FFFFFF;\n",
       "    }\n",
       "  </style>\n",
       "\n",
       "    <script>\n",
       "      const buttonEl =\n",
       "        document.querySelector('#df-73d7b054-b2dc-4afe-a363-dc8fffeef074 button.colab-df-convert');\n",
       "      buttonEl.style.display =\n",
       "        google.colab.kernel.accessAllowed ? 'block' : 'none';\n",
       "\n",
       "      async function convertToInteractive(key) {\n",
       "        const element = document.querySelector('#df-73d7b054-b2dc-4afe-a363-dc8fffeef074');\n",
       "        const dataTable =\n",
       "          await google.colab.kernel.invokeFunction('convertToInteractive',\n",
       "                                                    [key], {});\n",
       "        if (!dataTable) return;\n",
       "\n",
       "        const docLinkHtml = 'Like what you see? Visit the ' +\n",
       "          '<a target=\"_blank\" href=https://colab.research.google.com/notebooks/data_table.ipynb>data table notebook</a>'\n",
       "          + ' to learn more about interactive tables.';\n",
       "        element.innerHTML = '';\n",
       "        dataTable['output_type'] = 'display_data';\n",
       "        await google.colab.output.renderOutput(dataTable, element);\n",
       "        const docLink = document.createElement('div');\n",
       "        docLink.innerHTML = docLinkHtml;\n",
       "        element.appendChild(docLink);\n",
       "      }\n",
       "    </script>\n",
       "  </div>\n",
       "\n",
       "\n",
       "<div id=\"df-b223a1ad-be94-409f-9a5c-269836f50ba5\">\n",
       "  <button class=\"colab-df-quickchart\" onclick=\"quickchart('df-b223a1ad-be94-409f-9a5c-269836f50ba5')\"\n",
       "            title=\"Suggest charts\"\n",
       "            style=\"display:none;\">\n",
       "\n",
       "<svg xmlns=\"http://www.w3.org/2000/svg\" height=\"24px\"viewBox=\"0 0 24 24\"\n",
       "     width=\"24px\">\n",
       "    <g>\n",
       "        <path d=\"M19 3H5c-1.1 0-2 .9-2 2v14c0 1.1.9 2 2 2h14c1.1 0 2-.9 2-2V5c0-1.1-.9-2-2-2zM9 17H7v-7h2v7zm4 0h-2V7h2v10zm4 0h-2v-4h2v4z\"/>\n",
       "    </g>\n",
       "</svg>\n",
       "  </button>\n",
       "\n",
       "<style>\n",
       "  .colab-df-quickchart {\n",
       "      --bg-color: #E8F0FE;\n",
       "      --fill-color: #1967D2;\n",
       "      --hover-bg-color: #E2EBFA;\n",
       "      --hover-fill-color: #174EA6;\n",
       "      --disabled-fill-color: #AAA;\n",
       "      --disabled-bg-color: #DDD;\n",
       "  }\n",
       "\n",
       "  [theme=dark] .colab-df-quickchart {\n",
       "      --bg-color: #3B4455;\n",
       "      --fill-color: #D2E3FC;\n",
       "      --hover-bg-color: #434B5C;\n",
       "      --hover-fill-color: #FFFFFF;\n",
       "      --disabled-bg-color: #3B4455;\n",
       "      --disabled-fill-color: #666;\n",
       "  }\n",
       "\n",
       "  .colab-df-quickchart {\n",
       "    background-color: var(--bg-color);\n",
       "    border: none;\n",
       "    border-radius: 50%;\n",
       "    cursor: pointer;\n",
       "    display: none;\n",
       "    fill: var(--fill-color);\n",
       "    height: 32px;\n",
       "    padding: 0;\n",
       "    width: 32px;\n",
       "  }\n",
       "\n",
       "  .colab-df-quickchart:hover {\n",
       "    background-color: var(--hover-bg-color);\n",
       "    box-shadow: 0 1px 2px rgba(60, 64, 67, 0.3), 0 1px 3px 1px rgba(60, 64, 67, 0.15);\n",
       "    fill: var(--button-hover-fill-color);\n",
       "  }\n",
       "\n",
       "  .colab-df-quickchart-complete:disabled,\n",
       "  .colab-df-quickchart-complete:disabled:hover {\n",
       "    background-color: var(--disabled-bg-color);\n",
       "    fill: var(--disabled-fill-color);\n",
       "    box-shadow: none;\n",
       "  }\n",
       "\n",
       "  .colab-df-spinner {\n",
       "    border: 2px solid var(--fill-color);\n",
       "    border-color: transparent;\n",
       "    border-bottom-color: var(--fill-color);\n",
       "    animation:\n",
       "      spin 1s steps(1) infinite;\n",
       "  }\n",
       "\n",
       "  @keyframes spin {\n",
       "    0% {\n",
       "      border-color: transparent;\n",
       "      border-bottom-color: var(--fill-color);\n",
       "      border-left-color: var(--fill-color);\n",
       "    }\n",
       "    20% {\n",
       "      border-color: transparent;\n",
       "      border-left-color: var(--fill-color);\n",
       "      border-top-color: var(--fill-color);\n",
       "    }\n",
       "    30% {\n",
       "      border-color: transparent;\n",
       "      border-left-color: var(--fill-color);\n",
       "      border-top-color: var(--fill-color);\n",
       "      border-right-color: var(--fill-color);\n",
       "    }\n",
       "    40% {\n",
       "      border-color: transparent;\n",
       "      border-right-color: var(--fill-color);\n",
       "      border-top-color: var(--fill-color);\n",
       "    }\n",
       "    60% {\n",
       "      border-color: transparent;\n",
       "      border-right-color: var(--fill-color);\n",
       "    }\n",
       "    80% {\n",
       "      border-color: transparent;\n",
       "      border-right-color: var(--fill-color);\n",
       "      border-bottom-color: var(--fill-color);\n",
       "    }\n",
       "    90% {\n",
       "      border-color: transparent;\n",
       "      border-bottom-color: var(--fill-color);\n",
       "    }\n",
       "  }\n",
       "</style>\n",
       "\n",
       "  <script>\n",
       "    async function quickchart(key) {\n",
       "      const quickchartButtonEl =\n",
       "        document.querySelector('#' + key + ' button');\n",
       "      quickchartButtonEl.disabled = true;  // To prevent multiple clicks.\n",
       "      quickchartButtonEl.classList.add('colab-df-spinner');\n",
       "      try {\n",
       "        const charts = await google.colab.kernel.invokeFunction(\n",
       "            'suggestCharts', [key], {});\n",
       "      } catch (error) {\n",
       "        console.error('Error during call to suggestCharts:', error);\n",
       "      }\n",
       "      quickchartButtonEl.classList.remove('colab-df-spinner');\n",
       "      quickchartButtonEl.classList.add('colab-df-quickchart-complete');\n",
       "    }\n",
       "    (() => {\n",
       "      let quickchartButtonEl =\n",
       "        document.querySelector('#df-b223a1ad-be94-409f-9a5c-269836f50ba5 button');\n",
       "      quickchartButtonEl.style.display =\n",
       "        google.colab.kernel.accessAllowed ? 'block' : 'none';\n",
       "    })();\n",
       "  </script>\n",
       "</div>\n",
       "\n",
       "    </div>\n",
       "  </div>\n"
      ],
      "text/plain": [
       "                            Customer ID                              Order ID  \\\n",
       "0  8a80ddb1-8615-4452-adce-db56c9385365  d929f0c8-5600-456b-9360-ae114e339871   \n",
       "1  ac664d43-893a-47a1-bdd7-139f73a360a7  38d57142-b1f3-4b25-ae2e-e7404d2df736   \n",
       "2  ebbc4ba3-d24f-4e25-a585-15c8e6bacbd7  58a7f2a2-5682-4510-b94e-cb56d076880d   \n",
       "3  5f3f88e8-b638-4cfd-9af8-e14b63d9082f  12af190c-f3a3-4209-b7a7-fa7a66337df8   \n",
       "4  2029cf6c-dd8e-430c-ae24-586d3a5f422a  d283a232-0b04-49e9-bad3-6dcfd115b421   \n",
       "\n",
       "  Order Date                            Product ID Product Name     Category  \\\n",
       "0 2021-12-25  9c485900-229d-4b96-ac99-374754d40e1c      T-shirt  Accessories   \n",
       "1 2022-10-08  3ff68652-ba71-4610-9284-71f778fd2819   Smartphone     Clothing   \n",
       "2 2022-11-30  99ad1f2f-fa2e-4b27-8952-7b23249eeebc      T-shirt        Books   \n",
       "3 2023-02-12  b767b606-a5c1-46fc-83fa-78de163b8fce        Watch     Clothing   \n",
       "4 2023-02-17  15baeab4-63b9-4b98-a52f-40697bcd0c0f        Watch  Accessories   \n",
       "\n",
       "   Quantity  Unit Price Region  Total Amount  Year    Month  \n",
       "0         2       55.23  North        110.46  2021  2021-12  \n",
       "1         1      217.55  South        217.55  2022  2022-10  \n",
       "2         5      145.57   West        727.85  2022  2022-11  \n",
       "3         4       11.74  North         46.96  2023  2023-02  \n",
       "4         4      387.85   East       1551.40  2023  2023-02  "
      ]
     },
     "execution_count": 55,
     "metadata": {},
     "output_type": "execute_result"
    }
   ],
   "source": [
    "sales_data.head()"
   ]
  },
  {
   "cell_type": "markdown",
   "id": "a6dd7dac",
   "metadata": {},
   "source": [
    "### Task No: 03"
   ]
  },
  {
   "cell_type": "code",
   "execution_count": 42,
   "id": "7be403f4",
   "metadata": {
    "colab": {
     "base_uri": "https://localhost:8080/",
     "height": 370
    },
    "id": "7be403f4",
    "outputId": "76443c4d-f721-4b15-dfd9-4cb7bb0af2fe"
   },
   "outputs": [
    {
     "data": {
      "image/png": "[encoded data removed]",
      "text/plain": [
       "<Figure size 800x300 with 1 Axes>"
      ]
     },
     "metadata": {},
     "output_type": "display_data"
    }
   ],
   "source": [
    "# Ensure 'Order Date' is in datetime format\n",
    "sales_data['Order Date'] = pd.to_datetime(sales_data['Order Date'])\n",
    "sales_data['Year'] = sales_data['Order Date'].dt.year\n",
    "sales_data['Month'] = sales_data['Order Date'].dt.to_period('M')\n",
    "\n",
    "# Group sales data by year and month to get total sales\n",
    "monthly_sales = sales_data.groupby('Month')['Total Amount'].sum().reset_index()\n",
    "\n",
    "# Convert 'Month' to string for plotting\n",
    "monthly_sales['Month'] = monthly_sales['Month'].astype(str)\n",
    "\n",
    "# Plot monthly sales trend\n",
    "plt.figure(figsize=(8, 3))\n",
    "sns.lineplot(data=monthly_sales, x='Month', y='Total Amount', marker='o')\n",
    "plt.title('Monthly Sales Trend')\n",
    "plt.xticks(rotation=45)\n",
    "plt.ylabel('Total Sales')\n",
    "plt.xlabel('Month')\n",
    "plt.grid(True)\n",
    "plt.show()\n"
   ]
  },
  {
   "cell_type": "markdown",
   "id": "38616b7c",
   "metadata": {},
   "source": [
    "### Task No: 04"
   ]
  },
  {
   "cell_type": "code",
   "execution_count": 43,
   "id": "0a8d88cb",
   "metadata": {
    "colab": {
     "base_uri": "https://localhost:8080/",
     "height": 414
    },
    "id": "0a8d88cb",
    "outputId": "11d6a270-7955-4040-ab0b-1d59a57fc96e"
   },
   "outputs": [
    {
     "name": "stderr",
     "output_type": "stream",
     "text": [
      "<ipython-input-43-bc0577c64068>:5: FutureWarning: \n",
      "\n",
      "Passing `palette` without assigning `hue` is deprecated and will be removed in v0.14.0. Assign the `y` variable to `hue` and set `legend=False` for the same effect.\n",
      "\n",
      "  sns.barplot(data=category_sales, x='Total Amount', y='Category', palette='viridis')\n"
     ]
    },
    {
     "data": {
      "image/png": "[encoded data removed]",
      "text/plain": [
       "<Figure size 800x300 with 1 Axes>"
      ]
     },
     "metadata": {},
     "output_type": "display_data"
    }
   ],
   "source": [
    "# Task 2: Bar Chart for Top Product Categories\n",
    "category_sales = sales_data.groupby('Category')['Total Amount'].sum().reset_index().sort_values(by='Total Amount', ascending=False)\n",
    "\n",
    "plt.figure(figsize=(8, 3))\n",
    "sns.barplot(data=category_sales, x='Total Amount', y='Category', palette='viridis')\n",
    "plt.title('Top Performing Product Categories', fontsize=16)\n",
    "plt.xlabel('Total Sales')\n",
    "plt.ylabel('Product Category')\n",
    "plt.tight_layout()\n",
    "plt.show()"
   ]
  },
  {
   "cell_type": "code",
   "execution_count": 38,
   "id": "e53a72e4",
   "metadata": {
    "id": "e53a72e4"
   },
   "outputs": [],
   "source": [
    "# Task 3: Identify Regions with the Highest Sales\n",
    "region_sales = sales_data.groupby('Region')['Total Amount'].sum().reset_index().sort_values(by='Total Amount', ascending=False)"
   ]
  },
  {
   "cell_type": "code",
   "execution_count": 45,
   "id": "de87b2d3",
   "metadata": {
    "colab": {
     "base_uri": "https://localhost:8080/",
     "height": 440
    },
    "id": "de87b2d3",
    "outputId": "eb509539-0e6a-4e29-b709-ba443c43deda"
   },
   "outputs": [
    {
     "name": "stderr",
     "output_type": "stream",
     "text": [
      "<ipython-input-45-ef57b533f5f3>:3: FutureWarning: \n",
      "\n",
      "Passing `palette` without assigning `hue` is deprecated and will be removed in v0.14.0. Assign the `y` variable to `hue` and set `legend=False` for the same effect.\n",
      "\n",
      "  sns.barplot(data=region_sales, x='Total Amount', y='Region', palette='viridis')\n"
     ]
    },
    {
     "data": {
      "image/png": "[encoded data removed]",
      "text/plain": [
       "<Figure size 800x300 with 1 Axes>"
      ]
     },
     "metadata": {},
     "output_type": "display_data"
    }
   ],
   "source": [
    "# Plot sales by region\n",
    "plt.figure(figsize=(8, 3))\n",
    "sns.barplot(data=region_sales, x='Total Amount', y='Region', palette='viridis')\n",
    "plt.title('Sales by Region')\n",
    "plt.xlabel('Total Sales')\n",
    "plt.ylabel('Region')\n",
    "plt.show()"
   ]
  },
  {
   "cell_type": "code",
   "execution_count": 51,
   "id": "7e3b66e9",
   "metadata": {
    "colab": {
     "base_uri": "https://localhost:8080/",
     "height": 407
    },
    "id": "7e3b66e9",
    "outputId": "b95fa9e1-7f30-4d76-ee9b-0c5c74d1394f"
   },
   "outputs": [
    {
     "data": {
      "image/png": "[encoded data removed]",
      "text/plain": [
       "<Figure size 400x400 with 1 Axes>"
      ]
     },
     "metadata": {},
     "output_type": "display_data"
    }
   ],
   "source": [
    "# Task 3: Pie Chart for Regional Sales Distribution\n",
    "region_sales = sales_data.groupby('Region')['Total Amount'].sum().reset_index()\n",
    "\n",
    "plt.figure(figsize=(4, 4))\n",
    "plt.pie(region_sales['Total Amount'], labels=region_sales['Region'], autopct='%1.1f%%', startangle=90, colors=sns.color_palette('Set2'))\n",
    "plt.title('Sales Distribution by Region', fontsize=16)\n",
    "plt.axis('equal')  # Equal aspect ratio ensures that pie is drawn as a circle.\n",
    "plt.tight_layout()\n",
    "plt.show()"
   ]
  },
  {
   "cell_type": "code",
   "execution_count": null,
   "id": "722172b4",
   "metadata": {},
   "outputs": [],
   "source": []
  }
 ],
 "metadata": {
  "colab": {
   "provenance": []
  },
  "kernelspec": {
   "display_name": "Python 3 (ipykernel)",
   "language": "python",
   "name": "python3"
  },
  "language_info": {
   "codemirror_mode": {
    "name": "ipython",
    "version": 3
   },
   "file_extension": ".py",
   "mimetype": "text/x-python",
   "name": "python",
   "nbconvert_exporter": "python",
   "pygments_lexer": "ipython3",
   "version": "3.9.7"
  }
 },
 "nbformat": 4,
 "nbformat_minor": 5
}
